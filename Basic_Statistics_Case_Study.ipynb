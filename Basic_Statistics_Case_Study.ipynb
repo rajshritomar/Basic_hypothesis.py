{
 "cells": [
  {
   "cell_type": "code",
   "execution_count": 2,
   "id": "35ec081a",
   "metadata": {},
   "outputs": [],
   "source": [
    "import numpy as np\n",
    "import pandas as pd\n",
    "import matplotlib.pyplot as plt\n",
    "import seaborn as sns\n",
    "import scipy.stats as stats  \n",
    "%matplotlib inline\n",
    "import statistics"
   ]
  },
  {
   "cell_type": "markdown",
   "id": "77416df8",
   "metadata": {},
   "source": [
    "## Business Problem 1"
   ]
  },
  {
   "cell_type": "markdown",
   "id": "9736d8b8",
   "metadata": {},
   "source": [
    "## Using lending club loans data, the team would like to test below hypothesis on how different factors effecing each other (Hint: You may leverage hypothesis testing using statistical tests)\n"
   ]
  },
  {
   "cell_type": "markdown",
   "id": "45f14ed0",
   "metadata": {},
   "source": [
    "## a-  Intrest rate is varied for different loan amounts (Less intrest charged for high loan amounts)"
   ]
  },
  {
   "cell_type": "code",
   "execution_count": 3,
   "id": "3157ed1a",
   "metadata": {},
   "outputs": [
    {
     "data": {
      "text/html": [
       "<div>\n",
       "<style scoped>\n",
       "    .dataframe tbody tr th:only-of-type {\n",
       "        vertical-align: middle;\n",
       "    }\n",
       "\n",
       "    .dataframe tbody tr th {\n",
       "        vertical-align: top;\n",
       "    }\n",
       "\n",
       "    .dataframe thead th {\n",
       "        text-align: right;\n",
       "    }\n",
       "</style>\n",
       "<table border=\"1\" class=\"dataframe\">\n",
       "  <thead>\n",
       "    <tr style=\"text-align: right;\">\n",
       "      <th></th>\n",
       "      <th>Amount.Requested</th>\n",
       "      <th>Amount.Funded.By.Investors</th>\n",
       "      <th>Interest.Rate</th>\n",
       "      <th>Loan.Length</th>\n",
       "      <th>Loan.Purpose</th>\n",
       "      <th>Debt.To.Income.Ratio</th>\n",
       "      <th>State</th>\n",
       "      <th>Home.Ownership</th>\n",
       "      <th>Monthly.Income</th>\n",
       "      <th>FICO.Range</th>\n",
       "      <th>Open.CREDIT.Lines</th>\n",
       "      <th>Revolving.CREDIT.Balance</th>\n",
       "      <th>Inquiries.in.the.Last.6.Months</th>\n",
       "      <th>Employment.Length</th>\n",
       "    </tr>\n",
       "  </thead>\n",
       "  <tbody>\n",
       "    <tr>\n",
       "      <th>0</th>\n",
       "      <td>20000.0</td>\n",
       "      <td>20000.0</td>\n",
       "      <td>8.90%</td>\n",
       "      <td>36 months</td>\n",
       "      <td>debt_consolidation</td>\n",
       "      <td>14.90%</td>\n",
       "      <td>SC</td>\n",
       "      <td>MORTGAGE</td>\n",
       "      <td>6541.67</td>\n",
       "      <td>735-739</td>\n",
       "      <td>14.0</td>\n",
       "      <td>14272.0</td>\n",
       "      <td>2.0</td>\n",
       "      <td>&lt; 1 year</td>\n",
       "    </tr>\n",
       "  </tbody>\n",
       "</table>\n",
       "</div>"
      ],
      "text/plain": [
       "   Amount.Requested  Amount.Funded.By.Investors Interest.Rate Loan.Length  \\\n",
       "0           20000.0                     20000.0         8.90%   36 months   \n",
       "\n",
       "         Loan.Purpose Debt.To.Income.Ratio State Home.Ownership  \\\n",
       "0  debt_consolidation               14.90%    SC       MORTGAGE   \n",
       "\n",
       "   Monthly.Income FICO.Range  Open.CREDIT.Lines  Revolving.CREDIT.Balance  \\\n",
       "0         6541.67    735-739               14.0                   14272.0   \n",
       "\n",
       "   Inquiries.in.the.Last.6.Months Employment.Length  \n",
       "0                             2.0          < 1 year  "
      ]
     },
     "execution_count": 3,
     "metadata": {},
     "output_type": "execute_result"
    }
   ],
   "source": [
    "Loan = pd.read_csv('C:/Users/rajsh/OneDrive/Desktop/Python_5th/Basic Statistics - Hypothesis Testing/LoansData.csv')\n",
    "Loan.head(1)"
   ]
  },
  {
   "cell_type": "code",
   "execution_count": 4,
   "id": "2fbc5e2c",
   "metadata": {},
   "outputs": [
    {
     "name": "stdout",
     "output_type": "stream",
     "text": [
      "<class 'pandas.core.frame.DataFrame'>\n",
      "RangeIndex: 2500 entries, 0 to 2499\n",
      "Data columns (total 14 columns):\n",
      " #   Column                          Non-Null Count  Dtype  \n",
      "---  ------                          --------------  -----  \n",
      " 0   Amount.Requested                2499 non-null   float64\n",
      " 1   Amount.Funded.By.Investors      2499 non-null   float64\n",
      " 2   Interest.Rate                   2498 non-null   object \n",
      " 3   Loan.Length                     2500 non-null   object \n",
      " 4   Loan.Purpose                    2500 non-null   object \n",
      " 5   Debt.To.Income.Ratio            2499 non-null   object \n",
      " 6   State                           2500 non-null   object \n",
      " 7   Home.Ownership                  2499 non-null   object \n",
      " 8   Monthly.Income                  2499 non-null   float64\n",
      " 9   FICO.Range                      2498 non-null   object \n",
      " 10  Open.CREDIT.Lines               2497 non-null   float64\n",
      " 11  Revolving.CREDIT.Balance        2497 non-null   float64\n",
      " 12  Inquiries.in.the.Last.6.Months  2497 non-null   float64\n",
      " 13  Employment.Length               2423 non-null   object \n",
      "dtypes: float64(6), object(8)\n",
      "memory usage: 273.6+ KB\n"
     ]
    }
   ],
   "source": [
    "Loan.info()"
   ]
  },
  {
   "cell_type": "code",
   "execution_count": 5,
   "id": "ade9ad97",
   "metadata": {},
   "outputs": [],
   "source": [
    "Loan['Interest.Rate'] = Loan['Interest.Rate'].str.rstrip('%').astype(float)/100"
   ]
  },
  {
   "cell_type": "code",
   "execution_count": 6,
   "id": "6e170def",
   "metadata": {},
   "outputs": [
    {
     "data": {
      "text/html": [
       "<div>\n",
       "<style scoped>\n",
       "    .dataframe tbody tr th:only-of-type {\n",
       "        vertical-align: middle;\n",
       "    }\n",
       "\n",
       "    .dataframe tbody tr th {\n",
       "        vertical-align: top;\n",
       "    }\n",
       "\n",
       "    .dataframe thead th {\n",
       "        text-align: right;\n",
       "    }\n",
       "</style>\n",
       "<table border=\"1\" class=\"dataframe\">\n",
       "  <thead>\n",
       "    <tr style=\"text-align: right;\">\n",
       "      <th></th>\n",
       "      <th>Amount.Requested</th>\n",
       "      <th>Amount.Funded.By.Investors</th>\n",
       "      <th>Interest.Rate</th>\n",
       "      <th>Loan.Length</th>\n",
       "      <th>Loan.Purpose</th>\n",
       "      <th>Debt.To.Income.Ratio</th>\n",
       "      <th>State</th>\n",
       "      <th>Home.Ownership</th>\n",
       "      <th>Monthly.Income</th>\n",
       "      <th>FICO.Range</th>\n",
       "      <th>Open.CREDIT.Lines</th>\n",
       "      <th>Revolving.CREDIT.Balance</th>\n",
       "      <th>Inquiries.in.the.Last.6.Months</th>\n",
       "      <th>Employment.Length</th>\n",
       "    </tr>\n",
       "  </thead>\n",
       "  <tbody>\n",
       "    <tr>\n",
       "      <th>0</th>\n",
       "      <td>20000.0</td>\n",
       "      <td>20000.0</td>\n",
       "      <td>0.089</td>\n",
       "      <td>36 months</td>\n",
       "      <td>debt_consolidation</td>\n",
       "      <td>14.90%</td>\n",
       "      <td>SC</td>\n",
       "      <td>MORTGAGE</td>\n",
       "      <td>6541.67</td>\n",
       "      <td>735-739</td>\n",
       "      <td>14.0</td>\n",
       "      <td>14272.0</td>\n",
       "      <td>2.0</td>\n",
       "      <td>&lt; 1 year</td>\n",
       "    </tr>\n",
       "  </tbody>\n",
       "</table>\n",
       "</div>"
      ],
      "text/plain": [
       "   Amount.Requested  Amount.Funded.By.Investors  Interest.Rate Loan.Length  \\\n",
       "0           20000.0                     20000.0          0.089   36 months   \n",
       "\n",
       "         Loan.Purpose Debt.To.Income.Ratio State Home.Ownership  \\\n",
       "0  debt_consolidation               14.90%    SC       MORTGAGE   \n",
       "\n",
       "   Monthly.Income FICO.Range  Open.CREDIT.Lines  Revolving.CREDIT.Balance  \\\n",
       "0         6541.67    735-739               14.0                   14272.0   \n",
       "\n",
       "   Inquiries.in.the.Last.6.Months Employment.Length  \n",
       "0                             2.0          < 1 year  "
      ]
     },
     "execution_count": 6,
     "metadata": {},
     "output_type": "execute_result"
    }
   ],
   "source": [
    "Loan.head(1)"
   ]
  },
  {
   "cell_type": "code",
   "execution_count": 7,
   "id": "99e7202e",
   "metadata": {},
   "outputs": [
    {
     "data": {
      "image/png": "[encoded data removed]",
      "text/plain": [
       "<Figure size 640x480 with 1 Axes>"
      ]
     },
     "metadata": {},
     "output_type": "display_data"
    }
   ],
   "source": [
    "Loan.plot(kind = 'scatter' , x= 'Amount.Funded.By.Investors', y = 'Interest.Rate')\n",
    "plt.show()"
   ]
  },
  {
   "cell_type": "code",
   "execution_count": 8,
   "id": "cff4c73c",
   "metadata": {},
   "outputs": [
    {
     "data": {
      "text/html": [
       "<div>\n",
       "<style scoped>\n",
       "    .dataframe tbody tr th:only-of-type {\n",
       "        vertical-align: middle;\n",
       "    }\n",
       "\n",
       "    .dataframe tbody tr th {\n",
       "        vertical-align: top;\n",
       "    }\n",
       "\n",
       "    .dataframe thead th {\n",
       "        text-align: right;\n",
       "    }\n",
       "</style>\n",
       "<table border=\"1\" class=\"dataframe\">\n",
       "  <thead>\n",
       "    <tr style=\"text-align: right;\">\n",
       "      <th></th>\n",
       "      <th>Amount.Funded.By.Investors</th>\n",
       "      <th>Interest.Rate</th>\n",
       "    </tr>\n",
       "  </thead>\n",
       "  <tbody>\n",
       "    <tr>\n",
       "      <th>Amount.Funded.By.Investors</th>\n",
       "      <td>1.000000</td>\n",
       "      <td>0.337454</td>\n",
       "    </tr>\n",
       "    <tr>\n",
       "      <th>Interest.Rate</th>\n",
       "      <td>0.337454</td>\n",
       "      <td>1.000000</td>\n",
       "    </tr>\n",
       "  </tbody>\n",
       "</table>\n",
       "</div>"
      ],
      "text/plain": [
       "                            Amount.Funded.By.Investors  Interest.Rate\n",
       "Amount.Funded.By.Investors                    1.000000       0.337454\n",
       "Interest.Rate                                 0.337454       1.000000"
      ]
     },
     "execution_count": 8,
     "metadata": {},
     "output_type": "execute_result"
    }
   ],
   "source": [
    "Loan.loc[:, ['Amount.Funded.By.Investors', 'Interest.Rate']].corr()"
   ]
  },
  {
   "cell_type": "code",
   "execution_count": 9,
   "id": "af280bea",
   "metadata": {},
   "outputs": [],
   "source": [
    "Loan = Loan.rename(columns={'Amount.Funded.By.Investors': 'Amount_Funded_By_Investors', 'Interest.Rate': 'Interest_Rate' , 'Loan.Length':'Loan_Length' , 'Loan.Purpose' : 'Loan_Purpose',\n",
    "                           'Home.Ownership' : 'Home_Ownership','FICO.Range' : 'FICO_Range'})"
   ]
  },
  {
   "cell_type": "code",
   "execution_count": 10,
   "id": "5a36c9e4",
   "metadata": {},
   "outputs": [],
   "source": [
    "Loan.head(1)\n",
    "Loan.dropna(inplace = True)"
   ]
  },
  {
   "cell_type": "code",
   "execution_count": 11,
   "id": "1438bead",
   "metadata": {},
   "outputs": [
    {
     "data": {
      "text/plain": [
       "PearsonRResult(statistic=0.33159553110364703, pvalue=5.06425695047331e-63)"
      ]
     },
     "execution_count": 11,
     "metadata": {},
     "output_type": "execute_result"
    }
   ],
   "source": [
    "# Ho: No relationship\n",
    "# Ha: Association\n",
    "# CI: 95%, p: 0.05\n",
    "\n",
    "# perform the test \n",
    "stats.pearsonr( Loan.Amount_Funded_By_Investors, Loan.Interest_Rate)\n",
    "\n",
    "#conclusion\n",
    "#There is a relationship b/w Amount_Funded_By_Investors and Interest_Rate\n",
    "# interest rate is vary for different loan amount"
   ]
  },
  {
   "cell_type": "markdown",
   "id": "a2717f56",
   "metadata": {},
   "source": [
    "## b- Loan length is directly effecting intrest rate."
   ]
  },
  {
   "cell_type": "code",
   "execution_count": 12,
   "id": "2887a2ca",
   "metadata": {},
   "outputs": [
    {
     "name": "stdout",
     "output_type": "stream",
     "text": [
      "mean spend of Group_1: 0.12130074626865694\n",
      "mean spend of Group_2: 0.1637873370577283\n"
     ]
    }
   ],
   "source": [
    "var_name = 'Interest_Rate'\n",
    "Group_1 = Loan.loc[Loan.Loan_Length == '36 months', var_name]\n",
    "Group_2 = Loan.loc[Loan.Loan_Length == '60 months', var_name]   ##independent sampple ttest\n",
    "\n",
    "#display the mean usages\n",
    "print('mean spend of Group_1:', Group_1.mean())\n",
    "print('mean spend of Group_2:', Group_2.mean())"
   ]
  },
  {
   "cell_type": "code",
   "execution_count": 13,
   "id": "c6d61211",
   "metadata": {},
   "outputs": [
    {
     "data": {
      "text/plain": [
       "Ttest_indResult(statistic=-23.057793284827003, pvalue=1.7938010673411905e-106)"
      ]
     },
     "execution_count": 13,
     "metadata": {},
     "output_type": "execute_result"
    }
   ],
   "source": [
    "# H0: u1 = u2\n",
    "# Ha: u1 <> u2\n",
    "# CI: 99%, p: 0.01\n",
    "\n",
    "# perform the test\n",
    "stats.ttest_ind( Group_1, Group_2 )\n",
    "\n",
    "#conclusion\n",
    "#Loan length is effecting intrest rate"
   ]
  },
  {
   "cell_type": "markdown",
   "id": "da5f6f4a",
   "metadata": {},
   "source": [
    "## c-Inrest rate varies for different purpose of loans"
   ]
  },
  {
   "cell_type": "code",
   "execution_count": 14,
   "id": "51a6d955",
   "metadata": {},
   "outputs": [
    {
     "data": {
      "text/plain": [
       "Index(['Amount.Requested', 'Amount_Funded_By_Investors', 'Interest_Rate',\n",
       "       'Loan_Length', 'Loan_Purpose', 'Debt.To.Income.Ratio', 'State',\n",
       "       'Home_Ownership', 'Monthly.Income', 'FICO_Range', 'Open.CREDIT.Lines',\n",
       "       'Revolving.CREDIT.Balance', 'Inquiries.in.the.Last.6.Months',\n",
       "       'Employment.Length'],\n",
       "      dtype='object')"
      ]
     },
     "execution_count": 14,
     "metadata": {},
     "output_type": "execute_result"
    }
   ],
   "source": [
    "Loan.columns"
   ]
  },
  {
   "cell_type": "code",
   "execution_count": 15,
   "id": "8e977b61",
   "metadata": {},
   "outputs": [
    {
     "data": {
      "text/plain": [
       "14"
      ]
     },
     "execution_count": 15,
     "metadata": {},
     "output_type": "execute_result"
    }
   ],
   "source": [
    "Loan.Loan_Purpose.nunique()"
   ]
  },
  {
   "cell_type": "code",
   "execution_count": 16,
   "id": "c99816d4",
   "metadata": {},
   "outputs": [
    {
     "data": {
      "text/plain": [
       "debt_consolidation    1262\n",
       "credit_card            430\n",
       "other                  189\n",
       "home_improvement       147\n",
       "major_purchase         100\n",
       "small_business          83\n",
       "car                     50\n",
       "wedding                 37\n",
       "moving                  29\n",
       "medical                 28\n",
       "vacation                20\n",
       "house                   20\n",
       "educational             14\n",
       "renewable_energy         4\n",
       "Name: Loan_Purpose, dtype: int64"
      ]
     },
     "execution_count": 16,
     "metadata": {},
     "output_type": "execute_result"
    }
   ],
   "source": [
    "Loan.Loan_Purpose.value_counts()  ##Anova"
   ]
  },
  {
   "cell_type": "code",
   "execution_count": 17,
   "id": "c761e862",
   "metadata": {},
   "outputs": [
    {
     "name": "stdout",
     "output_type": "stream",
     "text": [
      "mean of s1:  0.13597773375594308 | mean of s2:  0.1302555813953491 | mean of s3:  0.11612040816326537 | mean of s4:  0.10827000000000003 | mean of s5:  0.12892409638554217 | mean of s6:  0.11113000000000003 |mean of s7:  0.13621034482758623 | mean of s8:  0.11958918918918918 | mean of s9:  0.11763214285714285 |mean of s10:  0.12262999999999999 | mean of s11:  0.13448 | mean of s12:  0.10874285714285715 |mean of s13:  0.098775 | mean of s14:  0.13237037037037044\n"
     ]
    }
   ],
   "source": [
    "# declare the variable for which we want to do the analysis\n",
    "var = 'Interest_Rate'\n",
    "\n",
    "# filter the data based on Loan_Purpose\n",
    "s1 = Loan.loc[ Loan.Loan_Purpose == 'debt_consolidation' , var ]\n",
    "s2 = Loan.loc[ Loan.Loan_Purpose == 'credit_card' , var ]\n",
    "s3 = Loan.loc[ Loan.Loan_Purpose == 'home_improvement' , var ]\n",
    "s4 = Loan.loc[ Loan.Loan_Purpose == 'major_purchase' , var ]\n",
    "s5 = Loan.loc[ Loan.Loan_Purpose == 'small_business' , var ]\n",
    "s6 = Loan.loc[ Loan.Loan_Purpose == 'car' , var ]\n",
    "s7 = Loan.loc[ Loan.Loan_Purpose == 'moving' , var ]\n",
    "s8 = Loan.loc[ Loan.Loan_Purpose == 'wedding' , var ]\n",
    "s9 = Loan.loc[ Loan.Loan_Purpose == 'medical' , var ]\n",
    "s10 = Loan.loc[ Loan.Loan_Purpose == 'vacation' , var ]\n",
    "s11 = Loan.loc[ Loan.Loan_Purpose == 'house' , var ]\n",
    "s12 = Loan.loc[ Loan.Loan_Purpose == 'educational' , var ]\n",
    "s13 = Loan.loc[ Loan.Loan_Purpose == 'renewable_energy' , var ]\n",
    "s14 = Loan.loc[ Loan.Loan_Purpose == 'other' , var ]\n",
    "\n",
    "#display mean of the sample\n",
    "print( 'mean of s1: ', s1.mean() ,'| mean of s2: ', s2.mean(), '| mean of s3: ', s3.mean() , '| mean of s4: ', s4.mean(), '| mean of s5: ', s5.mean(), '| mean of s6: ', s6.mean() , '|mean of s7: ', s7.mean(),\n",
    "      '| mean of s8: ', s8.mean(), '| mean of s9: ', s9.mean() , '|mean of s10: ', s10.mean(), '| mean of s11: ', s11.mean(), '| mean of s12: ', s12.mean() ,'|mean of s13: ', s13.mean(), '| mean of s14: ', s14.mean() )"
   ]
  },
  {
   "cell_type": "code",
   "execution_count": 18,
   "id": "6e67bbfc",
   "metadata": {},
   "outputs": [
    {
     "data": {
      "text/plain": [
       "F_onewayResult(statistic=7.330838185919652, pvalue=2.7646672581411367e-14)"
      ]
     },
     "execution_count": 18,
     "metadata": {},
     "output_type": "execute_result"
    }
   ],
   "source": [
    "# Ho: All the samples are from SAME population, means are EQUAL\n",
    "# Ha: Samples are from DIFFERENT population, means are UNEQUAL\n",
    "# CI: 99%, p: 0.01\n",
    "\n",
    "# perform the test\n",
    "stats.f_oneway( s1,s2,s3,s4,s5,s6,s7,s8,s9,s10,s11,s12,s13,s14)\n",
    "\n",
    "# conclusion\n",
    "# Interest rate vary for different purpose of loan"
   ]
  },
  {
   "cell_type": "markdown",
   "id": "19ce5659",
   "metadata": {},
   "source": [
    "##  d-There is relationship between FICO scores and Home Ownership. It means that, People with owning home will have high FICO scores."
   ]
  },
  {
   "cell_type": "code",
   "execution_count": 19,
   "id": "9226fdb9",
   "metadata": {},
   "outputs": [
    {
     "data": {
      "text/html": [
       "<div>\n",
       "<style scoped>\n",
       "    .dataframe tbody tr th:only-of-type {\n",
       "        vertical-align: middle;\n",
       "    }\n",
       "\n",
       "    .dataframe tbody tr th {\n",
       "        vertical-align: top;\n",
       "    }\n",
       "\n",
       "    .dataframe thead th {\n",
       "        text-align: right;\n",
       "    }\n",
       "</style>\n",
       "<table border=\"1\" class=\"dataframe\">\n",
       "  <thead>\n",
       "    <tr style=\"text-align: right;\">\n",
       "      <th>FICO_Range</th>\n",
       "      <th>640-644</th>\n",
       "      <th>645-649</th>\n",
       "      <th>650-654</th>\n",
       "      <th>655-659</th>\n",
       "      <th>660-664</th>\n",
       "      <th>665-669</th>\n",
       "      <th>670-674</th>\n",
       "      <th>675-679</th>\n",
       "      <th>680-684</th>\n",
       "      <th>685-689</th>\n",
       "      <th>...</th>\n",
       "      <th>780-784</th>\n",
       "      <th>785-789</th>\n",
       "      <th>790-794</th>\n",
       "      <th>795-799</th>\n",
       "      <th>800-804</th>\n",
       "      <th>805-809</th>\n",
       "      <th>810-814</th>\n",
       "      <th>815-819</th>\n",
       "      <th>820-824</th>\n",
       "      <th>830-834</th>\n",
       "    </tr>\n",
       "    <tr>\n",
       "      <th>Home_Ownership</th>\n",
       "      <th></th>\n",
       "      <th></th>\n",
       "      <th></th>\n",
       "      <th></th>\n",
       "      <th></th>\n",
       "      <th></th>\n",
       "      <th></th>\n",
       "      <th></th>\n",
       "      <th></th>\n",
       "      <th></th>\n",
       "      <th></th>\n",
       "      <th></th>\n",
       "      <th></th>\n",
       "      <th></th>\n",
       "      <th></th>\n",
       "      <th></th>\n",
       "      <th></th>\n",
       "      <th></th>\n",
       "      <th></th>\n",
       "      <th></th>\n",
       "      <th></th>\n",
       "    </tr>\n",
       "  </thead>\n",
       "  <tbody>\n",
       "    <tr>\n",
       "      <th>MORTGAGE</th>\n",
       "      <td>0</td>\n",
       "      <td>1</td>\n",
       "      <td>1</td>\n",
       "      <td>0</td>\n",
       "      <td>40</td>\n",
       "      <td>52</td>\n",
       "      <td>66</td>\n",
       "      <td>78</td>\n",
       "      <td>55</td>\n",
       "      <td>58</td>\n",
       "      <td>...</td>\n",
       "      <td>19</td>\n",
       "      <td>12</td>\n",
       "      <td>15</td>\n",
       "      <td>7</td>\n",
       "      <td>7</td>\n",
       "      <td>6</td>\n",
       "      <td>5</td>\n",
       "      <td>5</td>\n",
       "      <td>0</td>\n",
       "      <td>1</td>\n",
       "    </tr>\n",
       "    <tr>\n",
       "      <th>OTHER</th>\n",
       "      <td>0</td>\n",
       "      <td>0</td>\n",
       "      <td>0</td>\n",
       "      <td>1</td>\n",
       "      <td>0</td>\n",
       "      <td>0</td>\n",
       "      <td>1</td>\n",
       "      <td>1</td>\n",
       "      <td>2</td>\n",
       "      <td>0</td>\n",
       "      <td>...</td>\n",
       "      <td>0</td>\n",
       "      <td>0</td>\n",
       "      <td>0</td>\n",
       "      <td>0</td>\n",
       "      <td>0</td>\n",
       "      <td>0</td>\n",
       "      <td>0</td>\n",
       "      <td>0</td>\n",
       "      <td>0</td>\n",
       "      <td>0</td>\n",
       "    </tr>\n",
       "    <tr>\n",
       "      <th>OWN</th>\n",
       "      <td>1</td>\n",
       "      <td>0</td>\n",
       "      <td>0</td>\n",
       "      <td>0</td>\n",
       "      <td>14</td>\n",
       "      <td>17</td>\n",
       "      <td>13</td>\n",
       "      <td>10</td>\n",
       "      <td>9</td>\n",
       "      <td>10</td>\n",
       "      <td>...</td>\n",
       "      <td>3</td>\n",
       "      <td>1</td>\n",
       "      <td>1</td>\n",
       "      <td>1</td>\n",
       "      <td>3</td>\n",
       "      <td>2</td>\n",
       "      <td>1</td>\n",
       "      <td>0</td>\n",
       "      <td>1</td>\n",
       "      <td>0</td>\n",
       "    </tr>\n",
       "    <tr>\n",
       "      <th>RENT</th>\n",
       "      <td>4</td>\n",
       "      <td>2</td>\n",
       "      <td>0</td>\n",
       "      <td>3</td>\n",
       "      <td>64</td>\n",
       "      <td>69</td>\n",
       "      <td>87</td>\n",
       "      <td>72</td>\n",
       "      <td>91</td>\n",
       "      <td>60</td>\n",
       "      <td>...</td>\n",
       "      <td>4</td>\n",
       "      <td>4</td>\n",
       "      <td>4</td>\n",
       "      <td>5</td>\n",
       "      <td>2</td>\n",
       "      <td>3</td>\n",
       "      <td>2</td>\n",
       "      <td>0</td>\n",
       "      <td>0</td>\n",
       "      <td>0</td>\n",
       "    </tr>\n",
       "  </tbody>\n",
       "</table>\n",
       "<p>4 rows × 38 columns</p>\n",
       "</div>"
      ],
      "text/plain": [
       "FICO_Range      640-644  645-649  650-654  655-659  660-664  665-669  670-674  \\\n",
       "Home_Ownership                                                                  \n",
       "MORTGAGE              0        1        1        0       40       52       66   \n",
       "OTHER                 0        0        0        1        0        0        1   \n",
       "OWN                   1        0        0        0       14       17       13   \n",
       "RENT                  4        2        0        3       64       69       87   \n",
       "\n",
       "FICO_Range      675-679  680-684  685-689  ...  780-784  785-789  790-794  \\\n",
       "Home_Ownership                             ...                              \n",
       "MORTGAGE             78       55       58  ...       19       12       15   \n",
       "OTHER                 1        2        0  ...        0        0        0   \n",
       "OWN                  10        9       10  ...        3        1        1   \n",
       "RENT                 72       91       60  ...        4        4        4   \n",
       "\n",
       "FICO_Range      795-799  800-804  805-809  810-814  815-819  820-824  830-834  \n",
       "Home_Ownership                                                                 \n",
       "MORTGAGE              7        7        6        5        5        0        1  \n",
       "OTHER                 0        0        0        0        0        0        0  \n",
       "OWN                   1        3        2        1        0        1        0  \n",
       "RENT                  5        2        3        2        0        0        0  \n",
       "\n",
       "[4 rows x 38 columns]"
      ]
     },
     "execution_count": 19,
     "metadata": {},
     "output_type": "execute_result"
    }
   ],
   "source": [
    "#chi-square test\n",
    "# get the ob_freq_table from the dataset\n",
    "obs_freq = pd.crosstab( Loan.Home_Ownership, Loan.FICO_Range )\n",
    "obs_freq"
   ]
  },
  {
   "cell_type": "code",
   "execution_count": 20,
   "id": "487b2201",
   "metadata": {},
   "outputs": [
    {
     "data": {
      "text/plain": [
       "(269.7881202757334,\n",
       " 3.0875472813837764e-15,\n",
       " 111,\n",
       " array([[2.29796933e+00, 1.37878160e+00, 4.59593867e-01, 1.83837547e+00,\n",
       "         5.42320763e+01, 6.34239536e+01, 7.67521757e+01, 7.39946125e+01,\n",
       "         7.21562370e+01, 5.88280149e+01, 6.20451720e+01, 6.71007045e+01,\n",
       "         5.69896395e+01, 6.02067965e+01, 4.91765437e+01, 4.22826357e+01,\n",
       "         4.96361376e+01, 4.18230419e+01, 4.32018235e+01, 2.98736013e+01,\n",
       "         2.29796933e+01, 2.48180688e+01, 2.75756320e+01, 2.02221301e+01,\n",
       "         2.06817240e+01, 1.47070037e+01, 7.81309573e+00, 1.01110651e+01,\n",
       "         1.19494405e+01, 7.81309573e+00, 9.19187733e+00, 5.97472027e+00,\n",
       "         5.51512640e+00, 5.05553253e+00, 3.67675093e+00, 2.29796933e+00,\n",
       "         4.59593867e-01, 4.59593867e-01],\n",
       "        [1.03605470e-02, 6.21632822e-03, 2.07210941e-03, 8.28843763e-03,\n",
       "         2.44508910e-01, 2.85951098e-01, 3.46042271e-01, 3.33609615e-01,\n",
       "         3.25321177e-01, 2.65230004e-01, 2.79734770e-01, 3.02527973e-01,\n",
       "         2.56941567e-01, 2.71446332e-01, 2.21715707e-01, 1.90634065e-01,\n",
       "         2.23787816e-01, 1.88561956e-01, 1.94778284e-01, 1.34687111e-01,\n",
       "         1.03605470e-01, 1.11893908e-01, 1.24326564e-01, 9.11728139e-02,\n",
       "         9.32449233e-02, 6.63075010e-02, 3.52258599e-02, 4.55864070e-02,\n",
       "         5.38748446e-02, 3.52258599e-02, 4.14421881e-02, 2.69374223e-02,\n",
       "         2.48653129e-02, 2.27932035e-02, 1.65768753e-02, 1.03605470e-02,\n",
       "         2.07210941e-03, 2.07210941e-03],\n",
       "        [3.91628678e-01, 2.34977207e-01, 7.83257356e-02, 3.13302942e-01,\n",
       "         9.24243680e+00, 1.08089515e+01, 1.30803978e+01, 1.26104434e+01,\n",
       "         1.22971405e+01, 1.00256942e+01, 1.05739743e+01, 1.14355574e+01,\n",
       "         9.71239121e+00, 1.02606714e+01, 8.38085371e+00, 7.20596768e+00,\n",
       "         8.45917944e+00, 7.12764194e+00, 7.36261915e+00, 5.09117281e+00,\n",
       "         3.91628678e+00, 4.22958972e+00, 4.69954414e+00, 3.44633237e+00,\n",
       "         3.52465810e+00, 2.50642354e+00, 1.33153751e+00, 1.72316618e+00,\n",
       "         2.03646913e+00, 1.33153751e+00, 1.56651471e+00, 1.01823456e+00,\n",
       "         9.39908827e-01, 8.61583092e-01, 6.26605885e-01, 3.91628678e-01,\n",
       "         7.83257356e-02, 7.83257356e-02],\n",
       "        [2.30004144e+00, 1.38002487e+00, 4.60008288e-01, 1.84003315e+00,\n",
       "         5.42809780e+01, 6.34811438e+01, 7.68213842e+01, 7.40613344e+01,\n",
       "         7.22213013e+01, 5.88810609e+01, 6.21011189e+01, 6.71612101e+01,\n",
       "         5.70410278e+01, 6.02610858e+01, 4.92208869e+01, 4.23207625e+01,\n",
       "         4.96808952e+01, 4.18607542e+01, 4.32407791e+01, 2.99005387e+01,\n",
       "         2.30004144e+01, 2.48404476e+01, 2.76004973e+01, 2.02403647e+01,\n",
       "         2.07003730e+01, 1.47202652e+01, 7.82014090e+00, 1.01201823e+01,\n",
       "         1.19602155e+01, 7.82014090e+00, 9.20016577e+00, 5.98010775e+00,\n",
       "         5.52009946e+00, 5.06009117e+00, 3.68006631e+00, 2.30004144e+00,\n",
       "         4.60008288e-01, 4.60008288e-01]]))"
      ]
     },
     "execution_count": 20,
     "metadata": {},
     "output_type": "execute_result"
    }
   ],
   "source": [
    "# Ho: No relationship\n",
    "# Ha: Association\n",
    "# CI: 99%, p: 0.01\n",
    "\n",
    "# perform the test \n",
    "stats.chi2_contingency( obs_freq )\n",
    "\n",
    "# output: At 99% CI we can reject the H0\n",
    "# business conclusion\n",
    "# people will owning hom will have high FICO score"
   ]
  },
  {
   "cell_type": "markdown",
   "id": "2d9e14ed",
   "metadata": {},
   "source": [
    "## Business Problem 2"
   ]
  },
  {
   "cell_type": "markdown",
   "id": "f47f410c",
   "metadata": {},
   "source": [
    "## We would like to assess if there is any difference in the average price quotes provided by Mary and Barry.\n"
   ]
  },
  {
   "cell_type": "code",
   "execution_count": 21,
   "id": "a10d0d62",
   "metadata": {},
   "outputs": [
    {
     "data": {
      "text/html": [
       "<div>\n",
       "<style scoped>\n",
       "    .dataframe tbody tr th:only-of-type {\n",
       "        vertical-align: middle;\n",
       "    }\n",
       "\n",
       "    .dataframe tbody tr th {\n",
       "        vertical-align: top;\n",
       "    }\n",
       "\n",
       "    .dataframe thead th {\n",
       "        text-align: right;\n",
       "    }\n",
       "</style>\n",
       "<table border=\"1\" class=\"dataframe\">\n",
       "  <thead>\n",
       "    <tr style=\"text-align: right;\">\n",
       "      <th></th>\n",
       "      <th>Order_Number</th>\n",
       "      <th>Barry_Price</th>\n",
       "      <th>Mary_Price</th>\n",
       "    </tr>\n",
       "  </thead>\n",
       "  <tbody>\n",
       "    <tr>\n",
       "      <th>0</th>\n",
       "      <td>1</td>\n",
       "      <td>126</td>\n",
       "      <td>114</td>\n",
       "    </tr>\n",
       "  </tbody>\n",
       "</table>\n",
       "</div>"
      ],
      "text/plain": [
       "   Order_Number  Barry_Price  Mary_Price\n",
       "0             1          126         114"
      ]
     },
     "execution_count": 21,
     "metadata": {},
     "output_type": "execute_result"
    }
   ],
   "source": [
    "Price_Quotes = pd.read_csv('C:/Users/rajsh/OneDrive/Desktop/Python_5th/Basic Statistics - Hypothesis Testing/Price_Quotes.csv')\n",
    "Price_Quotes.head(1)"
   ]
  },
  {
   "cell_type": "code",
   "execution_count": 22,
   "id": "f895f457",
   "metadata": {},
   "outputs": [
    {
     "name": "stdout",
     "output_type": "stream",
     "text": [
      "Barry_Price mean: 124.33333333333333\n",
      "Mary_Price mean: 114.75\n"
     ]
    }
   ],
   "source": [
    "# declare the post campaighn analysis variable for consideration\n",
    "var_name = 'Mary_Price'\n",
    "\n",
    "# print the means\n",
    "print('Barry_Price mean:', Price_Quotes.Barry_Price.mean())\n",
    "print('Mary_Price mean:', Price_Quotes.loc[:, var_name].mean())\n",
    "\n"
   ]
  },
  {
   "cell_type": "code",
   "execution_count": 23,
   "id": "07a32082",
   "metadata": {},
   "outputs": [
    {
     "data": {
      "text/plain": [
       "Ttest_relResult(statistic=2.5213765108923494, pvalue=0.02840588045242053)"
      ]
     },
     "execution_count": 23,
     "metadata": {},
     "output_type": "execute_result"
    }
   ],
   "source": [
    "# H0: u1 = u2\n",
    "# Ha: u1 <> u2\n",
    "# CI: 99%, p: 0.01\n",
    "\n",
    "\n",
    "# perform the test\n",
    "stats.ttest_rel( Price_Quotes.Barry_Price, Price_Quotes.loc[:, var_name])\n",
    "\n",
    "# business conclusion\n",
    "#fail to reject the H0, Barry and Mary both are given the similar kind of pricing"
   ]
  },
  {
   "cell_type": "markdown",
   "id": "fa74d044",
   "metadata": {},
   "source": [
    "## Business Problem 3"
   ]
  },
  {
   "cell_type": "markdown",
   "id": "2e3d5f38",
   "metadata": {},
   "source": [
    "##  Determine what effect, if any, the reengineering effort had on the incidence behavioral problems and staff turnover. i.e To determine if the reengineering effort changed the critical incidence rate. Is there evidence that the critical incidence rate improved?"
   ]
  },
  {
   "cell_type": "code",
   "execution_count": 24,
   "id": "a220d270",
   "metadata": {},
   "outputs": [
    {
     "data": {
      "text/html": [
       "<div>\n",
       "<style scoped>\n",
       "    .dataframe tbody tr th:only-of-type {\n",
       "        vertical-align: middle;\n",
       "    }\n",
       "\n",
       "    .dataframe tbody tr th {\n",
       "        vertical-align: top;\n",
       "    }\n",
       "\n",
       "    .dataframe thead th {\n",
       "        text-align: right;\n",
       "    }\n",
       "</style>\n",
       "<table border=\"1\" class=\"dataframe\">\n",
       "  <thead>\n",
       "    <tr style=\"text-align: right;\">\n",
       "      <th></th>\n",
       "      <th>Month</th>\n",
       "      <th>Reengineer</th>\n",
       "      <th>Employee_Turnover</th>\n",
       "      <th>VAR4</th>\n",
       "      <th>VAR5</th>\n",
       "    </tr>\n",
       "  </thead>\n",
       "  <tbody>\n",
       "    <tr>\n",
       "      <th>0</th>\n",
       "      <td>1</td>\n",
       "      <td>Prior</td>\n",
       "      <td>0.0</td>\n",
       "      <td>24.390244</td>\n",
       "      <td>42.682927</td>\n",
       "    </tr>\n",
       "  </tbody>\n",
       "</table>\n",
       "</div>"
      ],
      "text/plain": [
       "   Month Reengineer  Employee_Turnover       VAR4       VAR5\n",
       "0      1      Prior                0.0  24.390244  42.682927"
      ]
     },
     "execution_count": 24,
     "metadata": {},
     "output_type": "execute_result"
    }
   ],
   "source": [
    "Treatment_Facility = pd.read_csv(\"C:/Users/rajsh/OneDrive/Desktop/Python_5th/Basic Statistics - Hypothesis Testing/Treatment_Facility.csv\")\n",
    "Treatment_Facility.head(1)"
   ]
  },
  {
   "cell_type": "code",
   "execution_count": 25,
   "id": "719b07ae",
   "metadata": {},
   "outputs": [
    {
     "name": "stdout",
     "output_type": "stream",
     "text": [
      "mean spend of Prior: 53.887906321846145\n",
      "mean spend of Post: 23.34971927988571\n"
     ]
    }
   ],
   "source": [
    "var_name = 'VAR5'\n",
    "Prior = Treatment_Facility.loc[Treatment_Facility.Reengineer == 'Prior' , var_name]\n",
    "Post = Treatment_Facility.loc[Treatment_Facility.Reengineer == 'Post' , var_name]\n",
    "\n",
    "# display the mean usages\n",
    "print('mean spend of Prior:', Prior.mean() )\n",
    "print('mean spend of Post:', Post.mean() )"
   ]
  },
  {
   "cell_type": "code",
   "execution_count": 26,
   "id": "4c90d77f",
   "metadata": {},
   "outputs": [
    {
     "data": {
      "text/plain": [
       "Ttest_indResult(statistic=1.627914425352865, pvalue=0.12091989189884148)"
      ]
     },
     "execution_count": 26,
     "metadata": {},
     "output_type": "execute_result"
    }
   ],
   "source": [
    "# H0: u1 = u2\n",
    "# Ha: u1 <> u2\n",
    "# CI: 99%, p: 0.01\n",
    "\n",
    "# perform the test\n",
    "stats.ttest_ind( Prior, Post )\n",
    "\n",
    "# business conclusion\n",
    "# incident rate prior and post are same"
   ]
  },
  {
   "cell_type": "markdown",
   "id": "6da9ea8a",
   "metadata": {},
   "source": [
    "## Business Problem 4"
   ]
  },
  {
   "cell_type": "markdown",
   "id": "44a86aeb",
   "metadata": {},
   "source": [
    "##  We will focus on the prioritization system. If the system is working, then high priority jobs, on average, should be completed more quickly than medium priority jobs, and medium priority jobs should be completed more quickly than low priority jobs. Use the data provided to determine whether this is, in fact, occurring."
   ]
  },
  {
   "cell_type": "code",
   "execution_count": 27,
   "id": "13acd6b5",
   "metadata": {},
   "outputs": [
    {
     "data": {
      "text/html": [
       "<div>\n",
       "<style scoped>\n",
       "    .dataframe tbody tr th:only-of-type {\n",
       "        vertical-align: middle;\n",
       "    }\n",
       "\n",
       "    .dataframe tbody tr th {\n",
       "        vertical-align: top;\n",
       "    }\n",
       "\n",
       "    .dataframe thead th {\n",
       "        text-align: right;\n",
       "    }\n",
       "</style>\n",
       "<table border=\"1\" class=\"dataframe\">\n",
       "  <thead>\n",
       "    <tr style=\"text-align: right;\">\n",
       "      <th></th>\n",
       "      <th>Days</th>\n",
       "      <th>Priority</th>\n",
       "    </tr>\n",
       "  </thead>\n",
       "  <tbody>\n",
       "    <tr>\n",
       "      <th>0</th>\n",
       "      <td>3.3</td>\n",
       "      <td>High</td>\n",
       "    </tr>\n",
       "  </tbody>\n",
       "</table>\n",
       "</div>"
      ],
      "text/plain": [
       "   Days Priority\n",
       "0   3.3     High"
      ]
     },
     "execution_count": 27,
     "metadata": {},
     "output_type": "execute_result"
    }
   ],
   "source": [
    "Priority_Assessment = pd.read_csv(\"C:/Users/rajsh/OneDrive/Desktop/Python_5th/Basic Statistics - Hypothesis Testing/Priority_Assessment.csv\")\n",
    "Priority_Assessment.head(1)"
   ]
  },
  {
   "cell_type": "code",
   "execution_count": 28,
   "id": "c1f3207a",
   "metadata": {},
   "outputs": [
    {
     "data": {
      "text/plain": [
       "3"
      ]
     },
     "execution_count": 28,
     "metadata": {},
     "output_type": "execute_result"
    }
   ],
   "source": [
    "#Anova\n",
    "Priority_Assessment.Priority.nunique()"
   ]
  },
  {
   "cell_type": "code",
   "execution_count": 29,
   "id": "e4035430",
   "metadata": {},
   "outputs": [
    {
     "data": {
      "text/plain": [
       "High      326\n",
       "Medium    249\n",
       "Low        67\n",
       "Name: Priority, dtype: int64"
      ]
     },
     "execution_count": 29,
     "metadata": {},
     "output_type": "execute_result"
    }
   ],
   "source": [
    "Priority_Assessment.Priority.value_counts()"
   ]
  },
  {
   "cell_type": "code",
   "execution_count": 30,
   "id": "e62cada3",
   "metadata": {},
   "outputs": [
    {
     "name": "stdout",
     "output_type": "stream",
     "text": [
      "mean of s1:  3.023619631901845 | mean of s2:  2.5000000000000004 | mean of s3:  4.228358208955225\n"
     ]
    }
   ],
   "source": [
    "# declare the variable for which we want to do the analysis\n",
    "var = 'Days'\n",
    "\n",
    "# filter the data based on Priority\n",
    "s1 =Priority_Assessment.loc[ Priority_Assessment.Priority == 'High', var ]\n",
    "s2 =Priority_Assessment.loc[ Priority_Assessment.Priority == 'Medium', var ]\n",
    "s3 =Priority_Assessment.loc[ Priority_Assessment.Priority == 'Low', var ]\n",
    "\n",
    "# display the mean of the three sample\n",
    "print( 'mean of s1: ', s1.mean(), '| mean of s2: ', s2.mean(), '| mean of s3: ', s3.mean() )"
   ]
  },
  {
   "cell_type": "code",
   "execution_count": 31,
   "id": "3bdebe1f",
   "metadata": {},
   "outputs": [
    {
     "data": {
      "text/plain": [
       "F_onewayResult(statistic=1.812311010076072, pvalue=0.16411459461716182)"
      ]
     },
     "execution_count": 31,
     "metadata": {},
     "output_type": "execute_result"
    }
   ],
   "source": [
    "# Ho: All the samples are from SAME population, means are EQUAL\n",
    "# Ha: Samples are from DIFFERENT population, means are UNEQUAL\n",
    "# CI: 99%, p: 0.01\n",
    "\n",
    "# perform the test\n",
    "stats.f_oneway( s1, s2, s3 )\n",
    "\n",
    "# conclusion\n",
    "# high priority jobs take less time to low but more time to medium"
   ]
  },
  {
   "cell_type": "markdown",
   "id": "80b30c21",
   "metadata": {},
   "source": [
    "## Business Problem 5"
   ]
  },
  {
   "cell_type": "markdown",
   "id": "57a06c22",
   "metadata": {},
   "source": [
    "## Use the survey results to addressthe following questions"
   ]
  },
  {
   "cell_type": "markdown",
   "id": "c97986fc",
   "metadata": {},
   "source": [
    "## a- What is the overall level of customer satisfaction?"
   ]
  },
  {
   "cell_type": "code",
   "execution_count": 32,
   "id": "5bea825e",
   "metadata": {},
   "outputs": [
    {
     "data": {
      "text/html": [
       "<div>\n",
       "<style scoped>\n",
       "    .dataframe tbody tr th:only-of-type {\n",
       "        vertical-align: middle;\n",
       "    }\n",
       "\n",
       "    .dataframe tbody tr th {\n",
       "        vertical-align: top;\n",
       "    }\n",
       "\n",
       "    .dataframe thead th {\n",
       "        text-align: right;\n",
       "    }\n",
       "</style>\n",
       "<table border=\"1\" class=\"dataframe\">\n",
       "  <thead>\n",
       "    <tr style=\"text-align: right;\">\n",
       "      <th></th>\n",
       "      <th>_rowstate_</th>\n",
       "      <th>Movie</th>\n",
       "      <th>Gender</th>\n",
       "      <th>Marital_Status</th>\n",
       "      <th>Sinage</th>\n",
       "      <th>Parking</th>\n",
       "      <th>Clean</th>\n",
       "      <th>Overall</th>\n",
       "      <th>Age</th>\n",
       "      <th>Income</th>\n",
       "      <th>Hear_About</th>\n",
       "    </tr>\n",
       "  </thead>\n",
       "  <tbody>\n",
       "    <tr>\n",
       "      <th>0</th>\n",
       "      <td>0</td>\n",
       "      <td>Ferris Buellers Day Off</td>\n",
       "      <td>Female</td>\n",
       "      <td>Married</td>\n",
       "      <td>2.0</td>\n",
       "      <td>2.0</td>\n",
       "      <td>2.0</td>\n",
       "      <td>2.0</td>\n",
       "      <td>3.0</td>\n",
       "      <td>1.0</td>\n",
       "      <td>5</td>\n",
       "    </tr>\n",
       "  </tbody>\n",
       "</table>\n",
       "</div>"
      ],
      "text/plain": [
       "   _rowstate_                    Movie  Gender Marital_Status  Sinage  \\\n",
       "0           0  Ferris Buellers Day Off  Female        Married     2.0   \n",
       "\n",
       "   Parking  Clean  Overall  Age  Income Hear_About  \n",
       "0      2.0    2.0      2.0  3.0     1.0          5  "
      ]
     },
     "execution_count": 32,
     "metadata": {},
     "output_type": "execute_result"
    }
   ],
   "source": [
    "Films = pd.read_csv(\"C:/Users/rajsh/OneDrive/Desktop/Python_5th/Basic Statistics - Hypothesis Testing/Films.csv\")\n",
    "Films.head(1)"
   ]
  },
  {
   "cell_type": "code",
   "execution_count": 33,
   "id": "c74ed66d",
   "metadata": {},
   "outputs": [],
   "source": [
    "#CI: 95% , mean-1.96*SE to mean+1.96*SE"
   ]
  },
  {
   "cell_type": "code",
   "execution_count": 34,
   "id": "ff4f4f8f",
   "metadata": {},
   "outputs": [
    {
     "name": "stdout",
     "output_type": "stream",
     "text": [
      "Overall mean: 1.6189024390243902\n"
     ]
    }
   ],
   "source": [
    "print('Overall mean:', Films.Overall.mean())"
   ]
  },
  {
   "cell_type": "code",
   "execution_count": 35,
   "id": "e28a3388",
   "metadata": {},
   "outputs": [
    {
     "name": "stdout",
     "output_type": "stream",
     "text": [
      "standard deviation: 0.6882347623034115\n"
     ]
    }
   ],
   "source": [
    "print('standard deviation:', np.std(Films.Overall))"
   ]
  },
  {
   "cell_type": "code",
   "execution_count": 36,
   "id": "7f10a797",
   "metadata": {},
   "outputs": [],
   "source": [
    "from scipy.stats import sem\n",
    "import math"
   ]
  },
  {
   "cell_type": "code",
   "execution_count": 37,
   "id": "6de94bcf",
   "metadata": {},
   "outputs": [
    {
     "data": {
      "text/plain": [
       "0.03788607675982049"
      ]
     },
     "execution_count": 37,
     "metadata": {},
     "output_type": "execute_result"
    }
   ],
   "source": [
    "np.std(Films.Overall)/(math.sqrt(330))"
   ]
  },
  {
   "cell_type": "code",
   "execution_count": 38,
   "id": "dfbf0b3d",
   "metadata": {},
   "outputs": [
    {
     "data": {
      "text/plain": [
       "(1.544645728575142, 1.6931591494736384)"
      ]
     },
     "execution_count": 38,
     "metadata": {},
     "output_type": "execute_result"
    }
   ],
   "source": [
    "Films.Overall.mean()-1.96*np.std(Films.Overall)/(math.sqrt(330)) , Films.Overall.mean()+1.96*np.std(Films.Overall)/(math.sqrt(330))"
   ]
  },
  {
   "cell_type": "code",
   "execution_count": 39,
   "id": "1d9d0dc7",
   "metadata": {},
   "outputs": [],
   "source": [
    "#with 95% confidence , people are given satisfication score is some where between 1.54 to 1.7"
   ]
  },
  {
   "cell_type": "markdown",
   "id": "73778a85",
   "metadata": {},
   "source": [
    "## b-  What factors are linked to satisfaction?"
   ]
  },
  {
   "cell_type": "code",
   "execution_count": 40,
   "id": "305b8d1b",
   "metadata": {},
   "outputs": [
    {
     "data": {
      "text/html": [
       "<div>\n",
       "<style scoped>\n",
       "    .dataframe tbody tr th:only-of-type {\n",
       "        vertical-align: middle;\n",
       "    }\n",
       "\n",
       "    .dataframe tbody tr th {\n",
       "        vertical-align: top;\n",
       "    }\n",
       "\n",
       "    .dataframe thead th {\n",
       "        text-align: right;\n",
       "    }\n",
       "</style>\n",
       "<table border=\"1\" class=\"dataframe\">\n",
       "  <thead>\n",
       "    <tr style=\"text-align: right;\">\n",
       "      <th></th>\n",
       "      <th>_rowstate_</th>\n",
       "      <th>Movie</th>\n",
       "      <th>Gender</th>\n",
       "      <th>Marital_Status</th>\n",
       "      <th>Sinage</th>\n",
       "      <th>Parking</th>\n",
       "      <th>Clean</th>\n",
       "      <th>Overall</th>\n",
       "      <th>Age</th>\n",
       "      <th>Income</th>\n",
       "      <th>Hear_About</th>\n",
       "    </tr>\n",
       "  </thead>\n",
       "  <tbody>\n",
       "    <tr>\n",
       "      <th>0</th>\n",
       "      <td>0</td>\n",
       "      <td>Ferris Buellers Day Off</td>\n",
       "      <td>Female</td>\n",
       "      <td>Married</td>\n",
       "      <td>2.0</td>\n",
       "      <td>2.0</td>\n",
       "      <td>2.0</td>\n",
       "      <td>2.0</td>\n",
       "      <td>3.0</td>\n",
       "      <td>1.0</td>\n",
       "      <td>5</td>\n",
       "    </tr>\n",
       "  </tbody>\n",
       "</table>\n",
       "</div>"
      ],
      "text/plain": [
       "   _rowstate_                    Movie  Gender Marital_Status  Sinage  \\\n",
       "0           0  Ferris Buellers Day Off  Female        Married     2.0   \n",
       "\n",
       "   Parking  Clean  Overall  Age  Income Hear_About  \n",
       "0      2.0    2.0      2.0  3.0     1.0          5  "
      ]
     },
     "execution_count": 40,
     "metadata": {},
     "output_type": "execute_result"
    }
   ],
   "source": [
    "Films.head(1)"
   ]
  },
  {
   "cell_type": "code",
   "execution_count": 41,
   "id": "9573ccd0",
   "metadata": {},
   "outputs": [
    {
     "data": {
      "text/html": [
       "<div>\n",
       "<style scoped>\n",
       "    .dataframe tbody tr th:only-of-type {\n",
       "        vertical-align: middle;\n",
       "    }\n",
       "\n",
       "    .dataframe tbody tr th {\n",
       "        vertical-align: top;\n",
       "    }\n",
       "\n",
       "    .dataframe thead th {\n",
       "        text-align: right;\n",
       "    }\n",
       "</style>\n",
       "<table border=\"1\" class=\"dataframe\">\n",
       "  <thead>\n",
       "    <tr style=\"text-align: right;\">\n",
       "      <th></th>\n",
       "      <th>_rowstate_</th>\n",
       "      <th>Movie</th>\n",
       "      <th>Gender</th>\n",
       "      <th>Marital_Status</th>\n",
       "      <th>Sinage</th>\n",
       "      <th>Parking</th>\n",
       "      <th>Clean</th>\n",
       "      <th>Overall</th>\n",
       "      <th>Age</th>\n",
       "      <th>Income</th>\n",
       "      <th>Hear_About</th>\n",
       "    </tr>\n",
       "  </thead>\n",
       "  <tbody>\n",
       "    <tr>\n",
       "      <th>0</th>\n",
       "      <td>0</td>\n",
       "      <td>Ferris Buellers Day Off</td>\n",
       "      <td>Female</td>\n",
       "      <td>Married</td>\n",
       "      <td>2.0</td>\n",
       "      <td>2.0</td>\n",
       "      <td>2.0</td>\n",
       "      <td>2.0</td>\n",
       "      <td>3.0</td>\n",
       "      <td>1.0</td>\n",
       "      <td>5</td>\n",
       "    </tr>\n",
       "  </tbody>\n",
       "</table>\n",
       "</div>"
      ],
      "text/plain": [
       "   _rowstate_                    Movie  Gender Marital_Status  Sinage  \\\n",
       "0           0  Ferris Buellers Day Off  Female        Married     2.0   \n",
       "\n",
       "   Parking  Clean  Overall  Age  Income Hear_About  \n",
       "0      2.0    2.0      2.0  3.0     1.0          5  "
      ]
     },
     "execution_count": 41,
     "metadata": {},
     "output_type": "execute_result"
    }
   ],
   "source": [
    "Films.dropna(how = 'all').head(1)"
   ]
  },
  {
   "cell_type": "code",
   "execution_count": 42,
   "id": "1e4a5b16",
   "metadata": {},
   "outputs": [
    {
     "data": {
      "text/plain": [
       "4"
      ]
     },
     "execution_count": 42,
     "metadata": {},
     "output_type": "execute_result"
    }
   ],
   "source": [
    "#Anova test\n",
    "Films.Age.nunique()"
   ]
  },
  {
   "cell_type": "code",
   "execution_count": 43,
   "id": "814ec6be",
   "metadata": {},
   "outputs": [
    {
     "data": {
      "text/plain": [
       "2.0    175\n",
       "3.0    117\n",
       "1.0     26\n",
       "4.0     10\n",
       "Name: Age, dtype: int64"
      ]
     },
     "execution_count": 43,
     "metadata": {},
     "output_type": "execute_result"
    }
   ],
   "source": [
    "Films.Age.value_counts()"
   ]
  },
  {
   "cell_type": "code",
   "execution_count": 44,
   "id": "3fed42aa",
   "metadata": {},
   "outputs": [
    {
     "name": "stdout",
     "output_type": "stream",
     "text": [
      "mean of s1:  1.5384615384615385 | mean of s2:  1.6820809248554913 | mean of s3:  1.547008547008547 | mean of s4: 1.7\n"
     ]
    }
   ],
   "source": [
    "var = 'Overall'\n",
    "\n",
    "# filter the data based on segments\n",
    "s1 = Films.loc[ Films.Age == 1, var]\n",
    "s2 = Films.loc[ Films.Age == 2, var]\n",
    "s3 = Films.loc[ Films.Age == 3, var]\n",
    "s4 = Films.loc[ Films.Age == 4, var]\n",
    "\n",
    "# display the mean of the three sample\n",
    "print( 'mean of s1: ', s1.mean(), '| mean of s2: ', s2.mean(), '| mean of s3: ', s3.mean() , '| mean of s4:' , s4.mean() )\n"
   ]
  },
  {
   "cell_type": "code",
   "execution_count": 45,
   "id": "c765628d",
   "metadata": {},
   "outputs": [
    {
     "data": {
      "text/plain": [
       "F_onewayResult(statistic=nan, pvalue=nan)"
      ]
     },
     "execution_count": 45,
     "metadata": {},
     "output_type": "execute_result"
    }
   ],
   "source": [
    "# perform the test\n",
    "stats.f_oneway( s1, s2, s3 , s4 )"
   ]
  },
  {
   "cell_type": "code",
   "execution_count": 46,
   "id": "3e934395",
   "metadata": {},
   "outputs": [
    {
     "name": "stdout",
     "output_type": "stream",
     "text": [
      "mean spend of male: 2.076923076923077\n",
      "mean spend of female: 1.368421052631579\n"
     ]
    }
   ],
   "source": [
    "# relation b/w gender and overall\n",
    "\n",
    "# take the two samples\n",
    "var_name = 'Overall'\n",
    "male = Films.loc[ Films.Gender == 'Male', var_name ]\n",
    "female =Films.loc[ Films.Gender == 'Female', var_name ]\n",
    "\n",
    "# display the mean usages\n",
    "print('mean spend of male:', male.mean() )\n",
    "print('mean spend of female:', female.mean() )"
   ]
  },
  {
   "cell_type": "code",
   "execution_count": 47,
   "id": "b86713a2",
   "metadata": {},
   "outputs": [
    {
     "data": {
      "text/plain": [
       "Ttest_indResult(statistic=2.5888027174359816, pvalue=0.01471174342681416)"
      ]
     },
     "execution_count": 47,
     "metadata": {},
     "output_type": "execute_result"
    }
   ],
   "source": [
    "# H0: u1 = u2\n",
    "# Ha: u1 <> u2\n",
    "# CI: 99%, p: 0.01\n",
    "\n",
    "# perform the test\n",
    "stats.ttest_ind( male, female )\n",
    "\n",
    "#"
   ]
  },
  {
   "cell_type": "code",
   "execution_count": 48,
   "id": "a8b6b3b9",
   "metadata": {},
   "outputs": [
    {
     "name": "stdout",
     "output_type": "stream",
     "text": [
      "mean spend of married: 1.6666666666666667\n",
      "mean spend of Single: nan\n"
     ]
    }
   ],
   "source": [
    "# relation b/w marital status and overall\n",
    "\n",
    "# take the two samples\n",
    "var_name = 'Overall'\n",
    "married = Films.loc[ Films.Marital_Status == 'Married', var_name ]\n",
    "single = Films.loc[ Films.Gender == 'Single', var_name ]\n",
    "\n",
    "# display the mean usages\n",
    "print('mean spend of married:', married.mean() )\n",
    "print('mean spend of Single:', single.mean() )"
   ]
  },
  {
   "cell_type": "code",
   "execution_count": 49,
   "id": "9ffb78a0",
   "metadata": {},
   "outputs": [
    {
     "data": {
      "text/plain": [
       "Ttest_indResult(statistic=nan, pvalue=nan)"
      ]
     },
     "execution_count": 49,
     "metadata": {},
     "output_type": "execute_result"
    }
   ],
   "source": [
    "# perform the test\n",
    "stats.ttest_ind( married, single )"
   ]
  },
  {
   "cell_type": "code",
   "execution_count": 50,
   "id": "57e80d7a",
   "metadata": {},
   "outputs": [
    {
     "data": {
      "text/plain": [
       "1.0    142\n",
       "3.0     90\n",
       "2.0     82\n",
       "Name: Income, dtype: int64"
      ]
     },
     "execution_count": 50,
     "metadata": {},
     "output_type": "execute_result"
    }
   ],
   "source": [
    "#anova test\n",
    "Films.Income.value_counts()"
   ]
  },
  {
   "cell_type": "code",
   "execution_count": 51,
   "id": "b01fa4f1",
   "metadata": {},
   "outputs": [
    {
     "name": "stdout",
     "output_type": "stream",
     "text": [
      "mean of s1:  1.624113475177305 | mean of s2:  1.5853658536585367 | mean of s3:  1.6222222222222222\n"
     ]
    }
   ],
   "source": [
    "var = 'Overall'\n",
    "\n",
    "# filter the data based on segments\n",
    "s1 = Films.loc[ Films.Income == 1, var]\n",
    "s2 = Films.loc[ Films.Income == 2, var]\n",
    "s3 = Films.loc[ Films.Income == 3, var]\n",
    "\n",
    "# display the mean of the three sample\n",
    "print( 'mean of s1: ', s1.mean(), '| mean of s2: ', s2.mean(), '| mean of s3: ', s3.mean() )"
   ]
  },
  {
   "cell_type": "code",
   "execution_count": 52,
   "id": "d8c69a04",
   "metadata": {},
   "outputs": [
    {
     "data": {
      "text/plain": [
       "F_onewayResult(statistic=nan, pvalue=nan)"
      ]
     },
     "execution_count": 52,
     "metadata": {},
     "output_type": "execute_result"
    }
   ],
   "source": [
    "# perform the test\n",
    "stats.f_oneway( s1, s2, s3 , s4 )"
   ]
  },
  {
   "cell_type": "code",
   "execution_count": 53,
   "id": "ed81c7ae",
   "metadata": {},
   "outputs": [
    {
     "data": {
      "text/plain": [
       "5      226\n",
       "4       41\n",
       "1       22\n",
       "3       14\n",
       "2       12\n",
       "2,5      2\n",
       "3,4      2\n",
       "4,5      1\n",
       "1,5      1\n",
       "5,4      1\n",
       "3,5      1\n",
       "Name: Hear_About, dtype: int64"
      ]
     },
     "execution_count": 53,
     "metadata": {},
     "output_type": "execute_result"
    }
   ],
   "source": [
    "#anova test\n",
    "Films.Hear_About.value_counts()"
   ]
  },
  {
   "cell_type": "code",
   "execution_count": 54,
   "id": "9f5bacaf",
   "metadata": {},
   "outputs": [],
   "source": [
    "var = 'Overall'\n",
    "\n",
    "# filter the data based on segments\n",
    "s1 = Films.loc[ Films.Hear_About == 1, var]\n",
    "s2 = Films.loc[ Films.Hear_About == 2, var]\n",
    "s3 = Films.loc[ Films.Hear_About == 3, var]\n",
    "s4 = Films.loc[ Films.Hear_About == 4, var]\n",
    "s5 = Films.loc[ Films.Hear_About == 5, var]\n",
    "s6 = Films.loc[ (Films.Hear_About == 2)  & (Films.Hear_About == 5)  ,var]\n",
    "s7 = Films.loc[ (Films.Hear_About == 3)  & (Films.Hear_About == 4)  ,var]\n",
    "s8 = Films.loc[ (Films.Hear_About == 4)  & (Films.Hear_About == 5)  ,var]\n",
    "s9 = Films.loc[ (Films.Hear_About == 1)  & (Films.Hear_About == 5)  ,var]\n",
    "s10 = Films.loc[ (Films.Hear_About == 5)  & (Films.Hear_About == 4)  ,var]\n",
    "s11 = Films.loc[ (Films.Hear_About == 3)  & (Films.Hear_About == 5)  ,var]"
   ]
  },
  {
   "cell_type": "code",
   "execution_count": 55,
   "id": "e835f54d",
   "metadata": {},
   "outputs": [
    {
     "name": "stdout",
     "output_type": "stream",
     "text": [
      "mean of s1:  nan | mean of s2:  nan | mean of s3:  nan | mean of s4:  nan | mean of s5:  nan | mean of s6:  nan |mean of s7:  nan | mean of s8:  nan | mean of s9:  nan |mean of s10:  nan | mean of s11:  nan\n"
     ]
    }
   ],
   "source": [
    "#display mean of the sample\n",
    "print( 'mean of s1: ', s1.mean() ,'| mean of s2: ', s2.mean(), '| mean of s3: ', s3.mean() , '| mean of s4: ', s4.mean(), '| mean of s5: ', s5.mean(), '| mean of s6: ', s6.mean() , '|mean of s7: ', s7.mean(),\n",
    "      '| mean of s8: ', s8.mean(), '| mean of s9: ', s9.mean() , '|mean of s10: ', s10.mean(), '| mean of s11: ', s11.mean())"
   ]
  },
  {
   "cell_type": "code",
   "execution_count": 56,
   "id": "57e65d1a",
   "metadata": {},
   "outputs": [
    {
     "data": {
      "text/html": [
       "<div>\n",
       "<style scoped>\n",
       "    .dataframe tbody tr th:only-of-type {\n",
       "        vertical-align: middle;\n",
       "    }\n",
       "\n",
       "    .dataframe tbody tr th {\n",
       "        vertical-align: top;\n",
       "    }\n",
       "\n",
       "    .dataframe thead th {\n",
       "        text-align: right;\n",
       "    }\n",
       "</style>\n",
       "<table border=\"1\" class=\"dataframe\">\n",
       "  <thead>\n",
       "    <tr style=\"text-align: right;\">\n",
       "      <th></th>\n",
       "      <th>_rowstate_</th>\n",
       "      <th>Movie</th>\n",
       "      <th>Gender</th>\n",
       "      <th>Marital_Status</th>\n",
       "      <th>Sinage</th>\n",
       "      <th>Parking</th>\n",
       "      <th>Clean</th>\n",
       "      <th>Overall</th>\n",
       "      <th>Age</th>\n",
       "      <th>Income</th>\n",
       "      <th>Hear_About</th>\n",
       "    </tr>\n",
       "  </thead>\n",
       "  <tbody>\n",
       "    <tr>\n",
       "      <th>0</th>\n",
       "      <td>0</td>\n",
       "      <td>Ferris Buellers Day Off</td>\n",
       "      <td>Female</td>\n",
       "      <td>Married</td>\n",
       "      <td>2.0</td>\n",
       "      <td>2.0</td>\n",
       "      <td>2.0</td>\n",
       "      <td>2.0</td>\n",
       "      <td>3.0</td>\n",
       "      <td>1.0</td>\n",
       "      <td>5</td>\n",
       "    </tr>\n",
       "  </tbody>\n",
       "</table>\n",
       "</div>"
      ],
      "text/plain": [
       "   _rowstate_                    Movie  Gender Marital_Status  Sinage  \\\n",
       "0           0  Ferris Buellers Day Off  Female        Married     2.0   \n",
       "\n",
       "   Parking  Clean  Overall  Age  Income Hear_About  \n",
       "0      2.0    2.0      2.0  3.0     1.0          5  "
      ]
     },
     "execution_count": 56,
     "metadata": {},
     "output_type": "execute_result"
    }
   ],
   "source": [
    "Films.head(1)"
   ]
  },
  {
   "cell_type": "code",
   "execution_count": 57,
   "id": "8b310f76",
   "metadata": {},
   "outputs": [
    {
     "data": {
      "image/png": "[encoded data removed]",
      "text/plain": [
       "<Figure size 640x480 with 1 Axes>"
      ]
     },
     "metadata": {},
     "output_type": "display_data"
    }
   ],
   "source": [
    "Films.plot(kind = 'scatter' , x= 'Sinage', y = 'Overall')\n",
    "plt.show()\n",
    "\n",
    "#no relation b/w sinage and overall"
   ]
  },
  {
   "cell_type": "code",
   "execution_count": 58,
   "id": "84dbdeeb",
   "metadata": {},
   "outputs": [
    {
     "data": {
      "image/png": "[encoded data removed]",
      "text/plain": [
       "<Figure size 640x480 with 1 Axes>"
      ]
     },
     "metadata": {},
     "output_type": "display_data"
    }
   ],
   "source": [
    "Films.plot(kind = 'scatter' , x= 'Parking', y = 'Overall')\n",
    "plt.show()\n",
    "#no relation b/w Parking and overall"
   ]
  },
  {
   "cell_type": "code",
   "execution_count": 59,
   "id": "b2b669d4",
   "metadata": {},
   "outputs": [
    {
     "data": {
      "image/png": "[encoded data removed]",
      "text/plain": [
       "<Figure size 640x480 with 1 Axes>"
      ]
     },
     "metadata": {},
     "output_type": "display_data"
    }
   ],
   "source": [
    "Films.plot(kind = 'scatter' , x= 'Clean', y = 'Overall')\n",
    "plt.show()\n",
    "#no relation b/w Clean and overall"
   ]
  },
  {
   "cell_type": "markdown",
   "id": "db093cf1",
   "metadata": {},
   "source": [
    "## c-  What is the demographic profile of Film on the Rocks patrons?"
   ]
  },
  {
   "cell_type": "code",
   "execution_count": 60,
   "id": "40f67130",
   "metadata": {},
   "outputs": [
    {
     "data": {
      "text/html": [
       "<div>\n",
       "<style scoped>\n",
       "    .dataframe tbody tr th:only-of-type {\n",
       "        vertical-align: middle;\n",
       "    }\n",
       "\n",
       "    .dataframe tbody tr th {\n",
       "        vertical-align: top;\n",
       "    }\n",
       "\n",
       "    .dataframe thead th {\n",
       "        text-align: right;\n",
       "    }\n",
       "</style>\n",
       "<table border=\"1\" class=\"dataframe\">\n",
       "  <thead>\n",
       "    <tr style=\"text-align: right;\">\n",
       "      <th></th>\n",
       "      <th>_rowstate_</th>\n",
       "      <th>Movie</th>\n",
       "      <th>Gender</th>\n",
       "      <th>Marital_Status</th>\n",
       "      <th>Sinage</th>\n",
       "      <th>Parking</th>\n",
       "      <th>Clean</th>\n",
       "      <th>Overall</th>\n",
       "      <th>Age</th>\n",
       "      <th>Income</th>\n",
       "      <th>Hear_About</th>\n",
       "    </tr>\n",
       "  </thead>\n",
       "  <tbody>\n",
       "    <tr>\n",
       "      <th>0</th>\n",
       "      <td>0</td>\n",
       "      <td>Ferris Buellers Day Off</td>\n",
       "      <td>Female</td>\n",
       "      <td>Married</td>\n",
       "      <td>2.0</td>\n",
       "      <td>2.0</td>\n",
       "      <td>2.0</td>\n",
       "      <td>2.0</td>\n",
       "      <td>3.0</td>\n",
       "      <td>1.0</td>\n",
       "      <td>5</td>\n",
       "    </tr>\n",
       "  </tbody>\n",
       "</table>\n",
       "</div>"
      ],
      "text/plain": [
       "   _rowstate_                    Movie  Gender Marital_Status  Sinage  \\\n",
       "0           0  Ferris Buellers Day Off  Female        Married     2.0   \n",
       "\n",
       "   Parking  Clean  Overall  Age  Income Hear_About  \n",
       "0      2.0    2.0      2.0  3.0     1.0          5  "
      ]
     },
     "execution_count": 60,
     "metadata": {},
     "output_type": "execute_result"
    }
   ],
   "source": [
    "Films.head(1)"
   ]
  },
  {
   "cell_type": "code",
   "execution_count": 61,
   "id": "253faf21",
   "metadata": {},
   "outputs": [
    {
     "data": {
      "text/plain": [
       "count             330\n",
       "unique              3\n",
       "top       Willy Wonka\n",
       "freq              161\n",
       "Name: Movie, dtype: object"
      ]
     },
     "execution_count": 61,
     "metadata": {},
     "output_type": "execute_result"
    }
   ],
   "source": [
    "Films['Movie'].describe()"
   ]
  },
  {
   "cell_type": "code",
   "execution_count": 62,
   "id": "ce921d16",
   "metadata": {},
   "outputs": [
    {
     "data": {
      "text/html": [
       "<div>\n",
       "<style scoped>\n",
       "    .dataframe tbody tr th:only-of-type {\n",
       "        vertical-align: middle;\n",
       "    }\n",
       "\n",
       "    .dataframe tbody tr th {\n",
       "        vertical-align: top;\n",
       "    }\n",
       "\n",
       "    .dataframe thead th {\n",
       "        text-align: right;\n",
       "    }\n",
       "</style>\n",
       "<table border=\"1\" class=\"dataframe\">\n",
       "  <thead>\n",
       "    <tr style=\"text-align: right;\">\n",
       "      <th></th>\n",
       "      <th>Movie</th>\n",
       "      <th>Gender</th>\n",
       "      <th>Marital_Status</th>\n",
       "      <th>Sinage</th>\n",
       "      <th>Parking</th>\n",
       "      <th>Clean</th>\n",
       "      <th>Overall</th>\n",
       "      <th>Age</th>\n",
       "      <th>Income</th>\n",
       "      <th>Hear_About</th>\n",
       "    </tr>\n",
       "  </thead>\n",
       "  <tbody>\n",
       "    <tr>\n",
       "      <th>count</th>\n",
       "      <td>330</td>\n",
       "      <td>330</td>\n",
       "      <td>328</td>\n",
       "      <td>328.000000</td>\n",
       "      <td>328.000000</td>\n",
       "      <td>327.000000</td>\n",
       "      <td>328.000000</td>\n",
       "      <td>328.000000</td>\n",
       "      <td>314.000000</td>\n",
       "      <td>323</td>\n",
       "    </tr>\n",
       "    <tr>\n",
       "      <th>unique</th>\n",
       "      <td>3</td>\n",
       "      <td>4</td>\n",
       "      <td>5</td>\n",
       "      <td>NaN</td>\n",
       "      <td>NaN</td>\n",
       "      <td>NaN</td>\n",
       "      <td>NaN</td>\n",
       "      <td>NaN</td>\n",
       "      <td>NaN</td>\n",
       "      <td>11</td>\n",
       "    </tr>\n",
       "    <tr>\n",
       "      <th>top</th>\n",
       "      <td>Willy Wonka</td>\n",
       "      <td>2</td>\n",
       "      <td>2</td>\n",
       "      <td>NaN</td>\n",
       "      <td>NaN</td>\n",
       "      <td>NaN</td>\n",
       "      <td>NaN</td>\n",
       "      <td>NaN</td>\n",
       "      <td>NaN</td>\n",
       "      <td>5</td>\n",
       "    </tr>\n",
       "    <tr>\n",
       "      <th>freq</th>\n",
       "      <td>161</td>\n",
       "      <td>194</td>\n",
       "      <td>208</td>\n",
       "      <td>NaN</td>\n",
       "      <td>NaN</td>\n",
       "      <td>NaN</td>\n",
       "      <td>NaN</td>\n",
       "      <td>NaN</td>\n",
       "      <td>NaN</td>\n",
       "      <td>226</td>\n",
       "    </tr>\n",
       "    <tr>\n",
       "      <th>mean</th>\n",
       "      <td>NaN</td>\n",
       "      <td>NaN</td>\n",
       "      <td>NaN</td>\n",
       "      <td>1.884146</td>\n",
       "      <td>1.756098</td>\n",
       "      <td>1.681957</td>\n",
       "      <td>1.618902</td>\n",
       "      <td>2.338415</td>\n",
       "      <td>1.834395</td>\n",
       "      <td>NaN</td>\n",
       "    </tr>\n",
       "    <tr>\n",
       "      <th>std</th>\n",
       "      <td>NaN</td>\n",
       "      <td>NaN</td>\n",
       "      <td>NaN</td>\n",
       "      <td>0.830603</td>\n",
       "      <td>0.798484</td>\n",
       "      <td>0.728313</td>\n",
       "      <td>0.689286</td>\n",
       "      <td>0.666902</td>\n",
       "      <td>0.844808</td>\n",
       "      <td>NaN</td>\n",
       "    </tr>\n",
       "    <tr>\n",
       "      <th>min</th>\n",
       "      <td>NaN</td>\n",
       "      <td>NaN</td>\n",
       "      <td>NaN</td>\n",
       "      <td>1.000000</td>\n",
       "      <td>1.000000</td>\n",
       "      <td>1.000000</td>\n",
       "      <td>1.000000</td>\n",
       "      <td>1.000000</td>\n",
       "      <td>1.000000</td>\n",
       "      <td>NaN</td>\n",
       "    </tr>\n",
       "    <tr>\n",
       "      <th>25%</th>\n",
       "      <td>NaN</td>\n",
       "      <td>NaN</td>\n",
       "      <td>NaN</td>\n",
       "      <td>1.000000</td>\n",
       "      <td>1.000000</td>\n",
       "      <td>1.000000</td>\n",
       "      <td>1.000000</td>\n",
       "      <td>2.000000</td>\n",
       "      <td>1.000000</td>\n",
       "      <td>NaN</td>\n",
       "    </tr>\n",
       "    <tr>\n",
       "      <th>50%</th>\n",
       "      <td>NaN</td>\n",
       "      <td>NaN</td>\n",
       "      <td>NaN</td>\n",
       "      <td>2.000000</td>\n",
       "      <td>2.000000</td>\n",
       "      <td>2.000000</td>\n",
       "      <td>2.000000</td>\n",
       "      <td>2.000000</td>\n",
       "      <td>2.000000</td>\n",
       "      <td>NaN</td>\n",
       "    </tr>\n",
       "    <tr>\n",
       "      <th>75%</th>\n",
       "      <td>NaN</td>\n",
       "      <td>NaN</td>\n",
       "      <td>NaN</td>\n",
       "      <td>2.000000</td>\n",
       "      <td>2.000000</td>\n",
       "      <td>2.000000</td>\n",
       "      <td>2.000000</td>\n",
       "      <td>3.000000</td>\n",
       "      <td>3.000000</td>\n",
       "      <td>NaN</td>\n",
       "    </tr>\n",
       "    <tr>\n",
       "      <th>max</th>\n",
       "      <td>NaN</td>\n",
       "      <td>NaN</td>\n",
       "      <td>NaN</td>\n",
       "      <td>5.000000</td>\n",
       "      <td>5.000000</td>\n",
       "      <td>5.000000</td>\n",
       "      <td>5.000000</td>\n",
       "      <td>4.000000</td>\n",
       "      <td>3.000000</td>\n",
       "      <td>NaN</td>\n",
       "    </tr>\n",
       "  </tbody>\n",
       "</table>\n",
       "</div>"
      ],
      "text/plain": [
       "              Movie Gender Marital_Status      Sinage     Parking       Clean  \\\n",
       "count           330    330            328  328.000000  328.000000  327.000000   \n",
       "unique            3      4              5         NaN         NaN         NaN   \n",
       "top     Willy Wonka      2              2         NaN         NaN         NaN   \n",
       "freq            161    194            208         NaN         NaN         NaN   \n",
       "mean            NaN    NaN            NaN    1.884146    1.756098    1.681957   \n",
       "std             NaN    NaN            NaN    0.830603    0.798484    0.728313   \n",
       "min             NaN    NaN            NaN    1.000000    1.000000    1.000000   \n",
       "25%             NaN    NaN            NaN    1.000000    1.000000    1.000000   \n",
       "50%             NaN    NaN            NaN    2.000000    2.000000    2.000000   \n",
       "75%             NaN    NaN            NaN    2.000000    2.000000    2.000000   \n",
       "max             NaN    NaN            NaN    5.000000    5.000000    5.000000   \n",
       "\n",
       "           Overall         Age      Income Hear_About  \n",
       "count   328.000000  328.000000  314.000000        323  \n",
       "unique         NaN         NaN         NaN         11  \n",
       "top            NaN         NaN         NaN          5  \n",
       "freq           NaN         NaN         NaN        226  \n",
       "mean      1.618902    2.338415    1.834395        NaN  \n",
       "std       0.689286    0.666902    0.844808        NaN  \n",
       "min       1.000000    1.000000    1.000000        NaN  \n",
       "25%       1.000000    2.000000    1.000000        NaN  \n",
       "50%       2.000000    2.000000    2.000000        NaN  \n",
       "75%       2.000000    3.000000    3.000000        NaN  \n",
       "max       5.000000    4.000000    3.000000        NaN  "
      ]
     },
     "execution_count": 62,
     "metadata": {},
     "output_type": "execute_result"
    }
   ],
   "source": [
    "Films[['Movie', 'Gender' , 'Marital_Status','Sinage','Parking','Clean','Overall','Age','Income','Hear_About']].describe(include= 'all')"
   ]
  },
  {
   "cell_type": "code",
   "execution_count": 63,
   "id": "f59b9b82",
   "metadata": {},
   "outputs": [],
   "source": [
    "#missing value treatment\n",
    "#Films = Films.apply( lambda x: x.fillna( x.mean() ) )"
   ]
  },
  {
   "cell_type": "markdown",
   "id": "ee7e0601",
   "metadata": {},
   "source": [
    "## d- In what media outlet(s) should the film series be advertised?"
   ]
  },
  {
   "cell_type": "code",
   "execution_count": 64,
   "id": "762fff9b",
   "metadata": {},
   "outputs": [
    {
     "name": "stdout",
     "output_type": "stream",
     "text": [
      "<class 'pandas.core.frame.DataFrame'>\n",
      "RangeIndex: 330 entries, 0 to 329\n",
      "Data columns (total 11 columns):\n",
      " #   Column          Non-Null Count  Dtype  \n",
      "---  ------          --------------  -----  \n",
      " 0   _rowstate_      330 non-null    int64  \n",
      " 1   Movie           330 non-null    object \n",
      " 2   Gender          330 non-null    object \n",
      " 3   Marital_Status  328 non-null    object \n",
      " 4   Sinage          328 non-null    float64\n",
      " 5   Parking         328 non-null    float64\n",
      " 6   Clean           327 non-null    float64\n",
      " 7   Overall         328 non-null    float64\n",
      " 8   Age             328 non-null    float64\n",
      " 9   Income          314 non-null    float64\n",
      " 10  Hear_About      323 non-null    object \n",
      "dtypes: float64(6), int64(1), object(4)\n",
      "memory usage: 28.5+ KB\n"
     ]
    }
   ],
   "source": [
    "Films.info()"
   ]
  },
  {
   "cell_type": "code",
   "execution_count": 65,
   "id": "fdf6413f",
   "metadata": {},
   "outputs": [
    {
     "data": {
      "text/html": [
       "<div>\n",
       "<style scoped>\n",
       "    .dataframe tbody tr th:only-of-type {\n",
       "        vertical-align: middle;\n",
       "    }\n",
       "\n",
       "    .dataframe tbody tr th {\n",
       "        vertical-align: top;\n",
       "    }\n",
       "\n",
       "    .dataframe thead th {\n",
       "        text-align: right;\n",
       "    }\n",
       "</style>\n",
       "<table border=\"1\" class=\"dataframe\">\n",
       "  <thead>\n",
       "    <tr style=\"text-align: right;\">\n",
       "      <th>Hear_About</th>\n",
       "      <th>1</th>\n",
       "      <th>1,5</th>\n",
       "      <th>2</th>\n",
       "      <th>2,5</th>\n",
       "      <th>3</th>\n",
       "      <th>3,4</th>\n",
       "      <th>3,5</th>\n",
       "      <th>4</th>\n",
       "      <th>4,5</th>\n",
       "      <th>5</th>\n",
       "      <th>5,4</th>\n",
       "    </tr>\n",
       "    <tr>\n",
       "      <th>Movie</th>\n",
       "      <th></th>\n",
       "      <th></th>\n",
       "      <th></th>\n",
       "      <th></th>\n",
       "      <th></th>\n",
       "      <th></th>\n",
       "      <th></th>\n",
       "      <th></th>\n",
       "      <th></th>\n",
       "      <th></th>\n",
       "      <th></th>\n",
       "    </tr>\n",
       "  </thead>\n",
       "  <tbody>\n",
       "    <tr>\n",
       "      <th>Ferris Buellers Day Off</th>\n",
       "      <td>13</td>\n",
       "      <td>1</td>\n",
       "      <td>4</td>\n",
       "      <td>1</td>\n",
       "      <td>4</td>\n",
       "      <td>0</td>\n",
       "      <td>0</td>\n",
       "      <td>17</td>\n",
       "      <td>1</td>\n",
       "      <td>94</td>\n",
       "      <td>0</td>\n",
       "    </tr>\n",
       "    <tr>\n",
       "      <th>Old School</th>\n",
       "      <td>1</td>\n",
       "      <td>0</td>\n",
       "      <td>4</td>\n",
       "      <td>0</td>\n",
       "      <td>1</td>\n",
       "      <td>1</td>\n",
       "      <td>0</td>\n",
       "      <td>1</td>\n",
       "      <td>0</td>\n",
       "      <td>24</td>\n",
       "      <td>0</td>\n",
       "    </tr>\n",
       "    <tr>\n",
       "      <th>Willy Wonka</th>\n",
       "      <td>8</td>\n",
       "      <td>0</td>\n",
       "      <td>4</td>\n",
       "      <td>1</td>\n",
       "      <td>9</td>\n",
       "      <td>1</td>\n",
       "      <td>1</td>\n",
       "      <td>23</td>\n",
       "      <td>0</td>\n",
       "      <td>108</td>\n",
       "      <td>1</td>\n",
       "    </tr>\n",
       "  </tbody>\n",
       "</table>\n",
       "</div>"
      ],
      "text/plain": [
       "Hear_About                1  1,5  2  2,5  3  3,4  3,5   4  4,5    5  5,4\n",
       "Movie                                                                   \n",
       "Ferris Buellers Day Off  13    1  4    1  4    0    0  17    1   94    0\n",
       "Old School                1    0  4    0  1    1    0   1    0   24    0\n",
       "Willy Wonka               8    0  4    1  9    1    1  23    0  108    1"
      ]
     },
     "execution_count": 65,
     "metadata": {},
     "output_type": "execute_result"
    }
   ],
   "source": [
    "#chi square test\n",
    "# get the ob_freq_table from the dataset\n",
    "obs_freq = pd.crosstab( Films.Movie , Films.Hear_About)\n",
    "obs_freq"
   ]
  },
  {
   "cell_type": "code",
   "execution_count": 86,
   "id": "8b445cb4",
   "metadata": {},
   "outputs": [
    {
     "data": {
      "text/plain": [
       "5      226\n",
       "4       41\n",
       "1       22\n",
       "3       14\n",
       "2       12\n",
       "2,5      2\n",
       "3,4      2\n",
       "4,5      1\n",
       "1,5      1\n",
       "5,4      1\n",
       "3,5      1\n",
       "Name: Hear_About, dtype: int64"
      ]
     },
     "execution_count": 86,
     "metadata": {},
     "output_type": "execute_result"
    }
   ],
   "source": [
    "Films.Hear_About.value_counts()"
   ]
  },
  {
   "cell_type": "code",
   "execution_count": 103,
   "id": "7d68d3c3",
   "metadata": {},
   "outputs": [
    {
     "data": {
      "text/plain": [
       "5      68.484848\n",
       "4      12.424242\n",
       "1       6.666667\n",
       "3       4.242424\n",
       "2       3.636364\n",
       "2,5     0.606061\n",
       "3,4     0.606061\n",
       "4,5     0.303030\n",
       "1,5     0.303030\n",
       "5,4     0.303030\n",
       "3,5     0.303030\n",
       "Name: Hear_About, dtype: float64"
      ]
     },
     "execution_count": 103,
     "metadata": {},
     "output_type": "execute_result"
    }
   ],
   "source": [
    "per = (Films['Hear_About'].value_counts()/len(Films))*100\n",
    "per"
   ]
  },
  {
   "cell_type": "code",
   "execution_count": 88,
   "id": "b0a407f3",
   "metadata": {},
   "outputs": [],
   "source": [
    "#on the basis of value count and per we can say that film series should be advertised by word of mouth"
   ]
  },
  {
   "cell_type": "code",
   "execution_count": 99,
   "id": "17dd71b9",
   "metadata": {},
   "outputs": [],
   "source": []
  },
  {
   "cell_type": "code",
   "execution_count": 100,
   "id": "e57b62a0",
   "metadata": {},
   "outputs": [],
   "source": []
  },
  {
   "cell_type": "code",
   "execution_count": 101,
   "id": "5a68003e",
   "metadata": {},
   "outputs": [],
   "source": [
    "\n"
   ]
  },
  {
   "cell_type": "code",
   "execution_count": null,
   "id": "aa34894f",
   "metadata": {},
   "outputs": [],
   "source": []
  }
 ],
 "metadata": {
  "kernelspec": {
   "display_name": "Python 3 (ipykernel)",
   "language": "python",
   "name": "python3"
  },
  "language_info": {
   "codemirror_mode": {
    "name": "ipython",
    "version": 3
   },
   "file_extension": ".py",
   "mimetype": "text/x-python",
   "name": "python",
   "nbconvert_exporter": "python",
   "pygments_lexer": "ipython3",
   "version": "3.9.13"
  }
 },
 "nbformat": 4,
 "nbformat_minor": 5
}
